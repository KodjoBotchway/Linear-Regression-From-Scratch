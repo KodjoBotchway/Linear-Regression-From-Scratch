{
 "cells": [
  {
   "cell_type": "markdown",
   "metadata": {},
   "source": [
    "# Question 1\n",
    "For the beginning, I decided to plot the relationsships between the x and y training data and the relationships between the x and y testing data to see the kind of relationhips that exist between them at that point"
   ]
  },
  {
   "cell_type": "code",
   "execution_count": 2,
   "metadata": {},
   "outputs": [],
   "source": [
    "# import packages\n",
    "import numpy as np\n",
    "import matplotlib.pyplot as plt\n",
    "import pandas as pd"
   ]
  },
  {
   "cell_type": "code",
   "execution_count": 3,
   "metadata": {},
   "outputs": [],
   "source": [
    "# load in datasets\n",
    "x_train = np.load(\"data/x_train.npy\")\n",
    "y_train = np.load(\"data/y_train.npy\")\n",
    "x_test = np.load(\"data/x_test.npy\")\n",
    "y_test = np.load(\"data/y_test.npy\")"
   ]
  },
  {
   "cell_type": "code",
   "execution_count": 4,
   "metadata": {},
   "outputs": [],
   "source": [
    "# adding a column of ones to the x variable to account for the intercept\n",
    "x = np.insert(x_train, 0, 1.0, axis=1)\n",
    "y = y_train"
   ]
  },
  {
   "cell_type": "code",
   "execution_count": 5,
   "metadata": {},
   "outputs": [
    {
     "data": {
      "text/plain": [
       "<matplotlib.collections.PathCollection at 0x1b88889cca0>"
      ]
     },
     "execution_count": 5,
     "metadata": {},
     "output_type": "execute_result"
    },
    {
     "data": {
      "image/png": "[encoded data removed]",
      "text/plain": [
       "<Figure size 720x216 with 2 Axes>"
      ]
     },
     "metadata": {
      "needs_background": "light"
     },
     "output_type": "display_data"
    }
   ],
   "source": [
    "# training x and y datasets\n",
    "f = plt.figure(figsize=(10, 3))\n",
    "ax = f.add_subplot(121)\n",
    "ax2 = f.add_subplot(122)\n",
    "\n",
    "ax.scatter(x_train, y_train)\n",
    "ax2.scatter(x_test, y_test)"
   ]
  },
  {
   "cell_type": "markdown",
   "metadata": {},
   "source": [
    "1. The image on the left is the x_train vs the y_train and the image on the right is the x_test against the y_test. Looking at the relationships between teh training and testing variables, the functions that looks to best describe the realtionships between the predictor and output values are polynomial realtionships of the 3rd and 5th degree, which is x^3 and x^5. These functions will be modeled along with others for confirmation.\n",
    "2. a. The relationship between the two is certainly not linear.\\\n",
    "   b. Yes, here I would need some sort of feature engineering to be able to add some non-linearity to be able to model these relationships. From the answer to the first question, I would want to use 3rd degree polynomial and also use the 5th degree polynomial. But first however, I went ahead and wrote down the code for the normal relationships and then compare the accuracies between them.\\\n",
    "      i. I can engineer these said features by creating new basis transformations for the x variable. Since, it is just one variable, we would take the x^2 through to the x^5 factor of the x variable to take care of the 3rd degree, which stops at x^3 and 5th degree which stops at x^5\n",
    "      ii. The functions I can try is adding the feature mentioned above to the training dataset. Adding to x^3 for the 3rd degree polynomial modeling and to x^5 for the 5th degree polynomial."
   ]
  },
  {
   "cell_type": "code",
   "execution_count": 6,
   "metadata": {},
   "outputs": [],
   "source": [
    "# In order to model the gradient descent, we will set some initial parameters, changeable and executable as and when needed\n",
    "# This part of the code is for the initial equation without the \n",
    "# learning rate = lr, size of the target variable = m, parameters for the x variables = theta\n",
    "lr = 0.1\n",
    "m = y_train.size\n",
    "# initailizing random paramters for the equation\n",
    "np.random.seed(10)\n",
    "theta = np.random.rand(2)\n",
    "# define the gradient descent function\n",
    "def gradient_descent(x, y, m, theta, lr):\n",
    "    # create open lists to house the values of the cost efficiency, the parameters and the predictions\n",
    "    cost_list = []\n",
    "    theta_list = []\n",
    "    prediction_list = []\n",
    "    minima_not_reached = True\n",
    "    cost_list.append(1e10)\n",
    "    i = 0\n",
    "    while minima_not_reached:\n",
    "        prediction =  np.dot(x, theta)\n",
    "        prediction_list.append(prediction)\n",
    "        error = prediction - y\n",
    "        cost = 1/(2*m) * np.dot(error.T, error)\n",
    "        cost_list.append(cost)\n",
    "        theta = theta - (lr * (1/m) * np.dot(x.T, error))\n",
    "        theta_list.append(theta)\n",
    "        if cost_list[i] - cost_list[i+1] < 1e-9:\n",
    "            minima_not_reached = False\n",
    "        i += 1\n",
    "    cost_list.pop(0)\n",
    "    return prediction_list, cost_list, theta_list"
   ]
  },
  {
   "cell_type": "code",
   "execution_count": 7,
   "metadata": {},
   "outputs": [
    {
     "name": "stdout",
     "output_type": "stream",
     "text": [
      "The beta parameters of the equation are [6.19313566 3.30655978]\n",
      "The Mean Square error of the training data is 169.33472640489606\n",
      "The Mean Square error of the testing data is 45.333224635550096\n",
      "The RSquare is 0.15919469136413245\n"
     ]
    }
   ],
   "source": [
    "# get back the prediction_lists or the y_hats, cost_list and the list of the betas\n",
    "prediction_list, cost_list, theta_list = gradient_descent(x, y, m, theta, lr)\n",
    "theta = theta_list[-1]\n",
    "# parameters or the beta values\n",
    "print(f'The beta parameters of the equation are {theta}')\n",
    "\n",
    "# Using the prediction equation to calculate MSE\n",
    "MSE = ((prediction_list[-1] - y_train) ** 2).mean()\n",
    "print(f'The Mean Square error of the training data is {MSE}')\n",
    "\n",
    "# Using the betas now for testing against the test data\n",
    "y_hat = theta[0] + theta[1]*x[:,1]\n",
    "\n",
    "# Using the prediction equation to calculate MSE\n",
    "MSE = ((y_hat - y_test) ** 2).mean()\n",
    "print(f'The Mean Square error of the testing data is {MSE}')\n",
    "\n",
    "# Using the prediction equation to calculate the RSquare\n",
    "y_bar = np.sum(y)/len(y)\n",
    "ssreg = np.sum((y - y_hat) ** 2)\n",
    "sstot = np.sum((y - y_bar) ** 2)\n",
    "RSquare = 1 - (ssreg / sstot)\n",
    "print(f'The RSquare is {RSquare}')"
   ]
  },
  {
   "cell_type": "code",
   "execution_count": 9,
   "metadata": {},
   "outputs": [
    {
     "data": {
      "text/plain": [
       "<matplotlib.legend.Legend at 0x1b8a2e67cd0>"
      ]
     },
     "execution_count": 9,
     "metadata": {},
     "output_type": "execute_result"
    },
    {
     "data": {
      "image/png": "[encoded data removed]",
      "text/plain": [
       "<Figure size 432x288 with 1 Axes>"
      ]
     },
     "metadata": {
      "needs_background": "light"
     },
     "output_type": "display_data"
    }
   ],
   "source": [
    "plt.scatter(x_train, y_train, label='Original Data')\n",
    "plt.scatter(x_train, prediction_list[-1], label='Model with Same data')\n",
    "plt.title('Original Data Against the Same Feature Data')\n",
    "plt.legend(loc='upper left')"
   ]
  },
  {
   "cell_type": "markdown",
   "metadata": {},
   "source": [
    "### Using the gradient descent and creating the model for the 3rd degree polynomial"
   ]
  },
  {
   "cell_type": "code",
   "execution_count": 10,
   "metadata": {},
   "outputs": [],
   "source": [
    "# for the third degree polynomial, as used we would need 1st, 2nd and 3rd degree of the predictor variables\n",
    "# I converted to a dataframe, made the adjustments and then change back to an array.\n",
    "x1 = pd.DataFrame(x)\n",
    "x1['2'] = x1[1] ** 2\n",
    "x1['3'] = x1[1] ** 3\n",
    "x1 = np.array(x1)"
   ]
  },
  {
   "cell_type": "code",
   "execution_count": 11,
   "metadata": {},
   "outputs": [
    {
     "name": "stdout",
     "output_type": "stream",
     "text": [
      "The beta parameters of the equation are [ 3.57948673 -8.86569264  0.36670865  2.14844889]\n",
      "The Mean Square error of the training data is 81.07774172189009\n",
      "The Mean Square error of the testing data is 133.5849694557597\n",
      "The RSquare is 0.5974210541559519\n"
     ]
    }
   ],
   "source": [
    "lr1 = 0.01\n",
    "m1 = y_train.size\n",
    "np.random.seed(10)\n",
    "theta1 = np.random.rand(4)\n",
    "\n",
    "prediction_list1, cost_list1, theta_list1 = gradient_descent(x1, y, m1, theta1, lr1)\n",
    "theta1 = theta_list1[-1]\n",
    "# parameters or the beta values\n",
    "print(f'The beta parameters of the equation are {theta1}')\n",
    "\n",
    "# Using the prediction equation to calculate MSE\n",
    "MSE = ((prediction_list1[-1] - y_train) ** 2).mean()\n",
    "print(f'The Mean Square error of the training data is {MSE}')\n",
    "\n",
    "# Using the betas now for testing against the test data\n",
    "y_hat1 = theta1[0] + theta1[1]*x1[:,1] + theta1[2]*x1[:,2] + theta1[3]*x1[:,3]\n",
    "\n",
    "# Using the prediction equation to calculate MSE\n",
    "MSE = ((y_hat1 - y_test) ** 2).mean()\n",
    "print(f'The Mean Square error of the testing data is {MSE}')\n",
    "\n",
    "# Using the prediction equation to calculate the RSquare\n",
    "y_bar = np.sum(y)/len(y)\n",
    "ssreg = np.sum((y - y_hat1) ** 2)\n",
    "sstot = np.sum((y - y_bar) ** 2)\n",
    "RSquare = 1 - (ssreg / sstot)\n",
    "print(f'The RSquare is {RSquare}')"
   ]
  },
  {
   "cell_type": "code",
   "execution_count": 12,
   "metadata": {},
   "outputs": [
    {
     "data": {
      "text/plain": [
       "<matplotlib.legend.Legend at 0x1b8a2e95c60>"
      ]
     },
     "execution_count": 12,
     "metadata": {},
     "output_type": "execute_result"
    },
    {
     "data": {
      "image/png": "[encoded data removed]",
      "text/plain": [
       "<Figure size 432x288 with 1 Axes>"
      ]
     },
     "metadata": {
      "needs_background": "light"
     },
     "output_type": "display_data"
    }
   ],
   "source": [
    "plt.scatter(x_train, y_train, label='Original Data')\n",
    "plt.scatter(x_train, prediction_list1[-1], label='Model with 3rd Degree Feature data')\n",
    "plt.title('Original Data Against Feature Data to 3rd Degree')\n",
    "plt.legend(loc='upper left')"
   ]
  },
  {
   "cell_type": "markdown",
   "metadata": {},
   "source": [
    "### Using the gradient descent and creating the model for the 5th degree polynomial"
   ]
  },
  {
   "cell_type": "code",
   "execution_count": 13,
   "metadata": {},
   "outputs": [],
   "source": [
    "# for the fifth degree polynomial, as used we would need 1st, 2nd, 3rd, 4th and 5th degree of the predictor variables\n",
    "# I converted to a dataframe, made the adjustments and then change back to an array.\n",
    "x2 = pd.DataFrame(x1)\n",
    "x2['4'] = x2[1] ** 4\n",
    "x2['5'] = x2[1] ** 5\n",
    "x2 = np.array(x2)\n"
   ]
  },
  {
   "cell_type": "code",
   "execution_count": 14,
   "metadata": {},
   "outputs": [
    {
     "name": "stdout",
     "output_type": "stream",
     "text": [
      "The beta parameters of the equation are [ 5.99146087e+00  9.97824926e+00  3.88318377e-03 -7.99075233e+00\n",
      " -3.58846154e-04  9.99180524e-01]\n",
      "The Mean Square error of the training data is 8.046160848045474e-05\n",
      "The Mean Square error of the testing data is 214.59690043897908\n",
      "The RSquare is 0.9999996004902985\n"
     ]
    }
   ],
   "source": [
    "lr2 = 0.0001\n",
    "m2 = y_train.size\n",
    "np.random.seed(10)\n",
    "theta2 = np.random.rand(6)\n",
    "\n",
    "prediction_list2, cost_list2, theta_list2 = gradient_descent(x2, y, m2, theta2, lr2)\n",
    "theta2 = theta_list2[-1]\n",
    "# parameters or the beta values\n",
    "print(f'The beta parameters of the equation are {theta2}')\n",
    "\n",
    "# Using the prediction equation to calculate MSE\n",
    "MSE = ((prediction_list2[-1] - y_train) ** 2).mean()\n",
    "print(f'The Mean Square error of the training data is {MSE}')\n",
    "\n",
    "# Using the betas now for testing against the test data\n",
    "y_hat2 = theta2[0] + theta2[1]*x2[:,1] + theta2[2]*x2[:,2] + theta2[3]*x2[:,3] + theta2[4]*x2[:,4] + theta2[5]*x2[:,5]\n",
    "\n",
    "# Using the prediction equation to calculate MSE\n",
    "MSE = ((y_hat2 - y_test) ** 2).mean()\n",
    "print(f'The Mean Square error of the testing data is {MSE}')\n",
    "\n",
    "# Using the prediction equation to calculate the RSquare\n",
    "y_bar = np.sum(y)/len(y)\n",
    "ssreg = np.sum((y - y_hat2) ** 2)\n",
    "sstot = np.sum((y - y_bar) ** 2)\n",
    "RSquare = 1 - (ssreg / sstot)\n",
    "print(f'The RSquare is {RSquare}')"
   ]
  },
  {
   "cell_type": "code",
   "execution_count": 15,
   "metadata": {},
   "outputs": [
    {
     "data": {
      "text/plain": [
       "<matplotlib.legend.Legend at 0x1b8887a6860>"
      ]
     },
     "execution_count": 15,
     "metadata": {},
     "output_type": "execute_result"
    },
    {
     "data": {
      "image/png": "[encoded data removed]",
      "text/plain": [
       "<Figure size 432x288 with 1 Axes>"
      ]
     },
     "metadata": {
      "needs_background": "light"
     },
     "output_type": "display_data"
    }
   ],
   "source": [
    "plt.scatter(x_train, y_train, label='Original Data')\n",
    "plt.scatter(x_train, prediction_list2[-1], label='Model with 5th Degree Feature data')\n",
    "plt.title('Original Data Against Feature Data to 5th Degree')\n",
    "plt.legend(loc='upper left')"
   ]
  },
  {
   "cell_type": "markdown",
   "metadata": {},
   "source": [
    "With the 5th order polynomial, I tried different learning rates and with the learning rates I tried, anything greater than 0.0001 caused the model to completely diverge. When I used a value less than that, the model was being over fitting to the training data. This is shown when the model if run and from the results, we can see that the MSE from the training data is almost negligible and that from the testing data is higher than the one from the 3rd degree polynomial function. This shows that the 3rd degree fits the model the best and additionally, the test data seemed to resemble a 3rd order polynomial so that is also in agreement."
   ]
  },
  {
   "cell_type": "markdown",
   "metadata": {},
   "source": [
    "# Question 2"
   ]
  },
  {
   "cell_type": "code",
   "execution_count": 184,
   "metadata": {},
   "outputs": [],
   "source": [
    "# read in dataset\n",
    "df = pd.read_csv('Data/Assignment1_Q2_Data.csv')\n",
    "\n",
    "# creating the predictor variables for the x variables excluding House ID and Price\n",
    "x = np.array(df.drop(['House ID', 'Price (1000$)'], axis=1))\n",
    "y = np.array(df['Price (1000$)'])\n",
    "\n",
    "# in order to calculate the for the MSE for the testing data and the RSquare, we would have to split the data\n",
    "split = round(x.shape[0] * 0.8, 0)\n",
    "x_trai = x[:22]\n",
    "# print(x_train.shape)\n",
    "x_tes = x[22:]\n",
    "# print(x_test.shape)\n",
    "y_train = y[:22]\n",
    "# print(y_train.shape)\n",
    "y_test = y[22:]\n",
    "# print(y_test.shape)\n",
    "x_train = np.insert(x_trai, 0, 1.0, axis=1)\n",
    "x_test = np.insert(x_tes, 0, 1.0, axis=1)"
   ]
  },
  {
   "cell_type": "code",
   "execution_count": 173,
   "metadata": {},
   "outputs": [
    {
     "name": "stdout",
     "output_type": "stream",
     "text": [
      "The beta parameters of the equation are [-0.11592564  2.28573735 14.3553132   0.66933539  2.20976584  2.33721091\n",
      " -4.99318846  5.62938048  0.07048837 -0.27403288  4.18008062  6.31782469]\n",
      "The Mean Square error of the training data is 4.706512549113003\n",
      "The Mean Square error of the testing data is 92.36778112568167\n"
     ]
    }
   ],
   "source": [
    "# using the same equations and implementations to be able to model out the equation for this\n",
    "# question, we have \n",
    "lr = 0.001\n",
    "m = y.size\n",
    "np.random.seed(10)\n",
    "theta = np.random.rand(12)\n",
    "\n",
    "prediction_list, cost_list, theta_list = gradient_descent(x_train, y_train, m, theta, lr)\n",
    "theta = theta_list[-1]\n",
    "# parameters or the beta values\n",
    "print(f'The beta parameters of the equation are {theta}')\n",
    "\n",
    "# Using the prediction equation to calculate MSE\n",
    "MSE = ((prediction_list[-1] - y_train) ** 2).mean()\n",
    "print(f'The Mean Square error of the training data is {MSE}')\n",
    "\n",
    "# Using the betas now for testing against the test data\n",
    "y_hat = theta[0] + theta[1]*x_test[:,1] + theta[2]*x_test[:,2] + theta[3]*x_test[:,3] + theta[4]*x_test[:,4] + theta[5]*x_test[:,5] + theta[6]*x_test[:,6] + theta[7]*x_test[:,7] + theta[8]*x_test[:,8] + theta[9]*x_test[:,9] + theta[10]*x_test[:,10] + theta[11]*x_test[:,11]\n",
    "\n",
    "# Using the prediction equation to calculate MSE\n",
    "MSE = ((y_hat - y_test) ** 2).mean()\n",
    "print(f'The Mean Square error of the testing data is {MSE}')"
   ]
  },
  {
   "cell_type": "markdown",
   "metadata": {},
   "source": [
    "2. 1. The average least square error for the given data using the model is 92.3677"
   ]
  },
  {
   "cell_type": "markdown",
   "metadata": {},
   "source": [
    "To find the most important and least important, the features would have to be normalized to the same standard since co-efficients are not enough to determine that."
   ]
  },
  {
   "cell_type": "code",
   "execution_count": 174,
   "metadata": {},
   "outputs": [
    {
     "name": "stdout",
     "output_type": "stream",
     "text": [
      "The beta parameters of the equation are [ 1.66728197  0.15100444  0.99002556  0.92252672  0.60848168  0.47774195\n",
      "  0.35083276 -0.32752083  0.24146934  0.05142181  0.77760012]\n",
      "The Mean Square error of the training data is 0.0167963044874735\n",
      "The Mean Square error of the testing data is 2.236373587694179\n"
     ]
    }
   ],
   "source": [
    "# I had to come back and normalize the data since the co-efficeints cannot be used for feature importance\n",
    "x = (x - x.min())/(x.max() - x.min())\n",
    "y = (y - y.min())/(y.max() - y.min())\n",
    "\n",
    "# in order to calculate the for the MSE for the testing data and the RSquare, we would have to split the data\n",
    "split = round(x.shape[0] * 0.8, 0)\n",
    "x_train = x[:22]\n",
    "# print(x_train.shape)\n",
    "x_test = x[22:]\n",
    "# print(x_test.shape)\n",
    "y_train = y[:22]\n",
    "# print(y_train.shape)\n",
    "y_test = y[22:]\n",
    "# print(y_test.shape)\n",
    "\n",
    "# using the same equations and implementations to be able to model out the equation for this\n",
    "# question, we have \n",
    "lr = 0.0001\n",
    "m = y.size\n",
    "np.random.seed(10)\n",
    "theta = np.random.rand(11)\n",
    "\n",
    "prediction_list, cost_list, theta_list = gradient_descent(x_train, y_train, m, theta, lr)\n",
    "theta = theta_list[-1]\n",
    "# parameters or the beta values\n",
    "print(f'The beta parameters of the equation are {theta}')\n",
    "\n",
    "# Using the prediction equation to calculate MSE\n",
    "MSE = ((prediction_list[-1] - y_train) ** 2).mean()\n",
    "print(f'The Mean Square error of the training data is {MSE}')\n",
    "\n",
    "# Using the betas now for testing against the test data\n",
    "y_hat = theta[0] + theta[1]*x_test[:,1] + theta[2]*x_test[:,2] + theta[3]*x_test[:,3] + theta[4]*x_test[:,4] + theta[5]*x_test[:,5] + theta[6]*x_test[:,6] + theta[7]*x_test[:,7] + theta[8]*x_test[:,8] + theta[9]*x_test[:,9] + theta[10]*x_test[:,10]\n",
    "\n",
    "# Using the prediction equation to calculate MSE\n",
    "MSE = ((y_hat - y_test) ** 2).mean()\n",
    "print(f'The Mean Square error of the testing data is {MSE}')"
   ]
  },
  {
   "cell_type": "code",
   "execution_count": 175,
   "metadata": {},
   "outputs": [
    {
     "data": {
      "text/plain": [
       "array([ 1.66728197,  0.15100444,  0.99002556,  0.92252672,  0.60848168,\n",
       "        0.47774195,  0.35083276, -0.32752083,  0.24146934,  0.05142181,\n",
       "        0.77760012])"
      ]
     },
     "execution_count": 175,
     "metadata": {},
     "output_type": "execute_result"
    }
   ],
   "source": [
    "theta"
   ]
  },
  {
   "cell_type": "code",
   "execution_count": 142,
   "metadata": {},
   "outputs": [
    {
     "data": {
      "text/html": [
       "<div>\n",
       "<style scoped>\n",
       "    .dataframe tbody tr th:only-of-type {\n",
       "        vertical-align: middle;\n",
       "    }\n",
       "\n",
       "    .dataframe tbody tr th {\n",
       "        vertical-align: top;\n",
       "    }\n",
       "\n",
       "    .dataframe thead th {\n",
       "        text-align: right;\n",
       "    }\n",
       "</style>\n",
       "<table border=\"1\" class=\"dataframe\">\n",
       "  <thead>\n",
       "    <tr style=\"text-align: right;\">\n",
       "      <th></th>\n",
       "      <th>House ID</th>\n",
       "      <th>Local Price</th>\n",
       "      <th>Bathrooms</th>\n",
       "      <th>Land Area</th>\n",
       "      <th>Living area</th>\n",
       "      <th># Garages</th>\n",
       "      <th># Rooms</th>\n",
       "      <th># Bedrooms</th>\n",
       "      <th>Age of home</th>\n",
       "      <th>Construction type</th>\n",
       "      <th>Architecture type</th>\n",
       "      <th># Fire places</th>\n",
       "      <th>Price (1000$)</th>\n",
       "    </tr>\n",
       "  </thead>\n",
       "  <tbody>\n",
       "    <tr>\n",
       "      <th>0</th>\n",
       "      <td>1</td>\n",
       "      <td>4.9176</td>\n",
       "      <td>1.0</td>\n",
       "      <td>3.472</td>\n",
       "      <td>0.998</td>\n",
       "      <td>1.0</td>\n",
       "      <td>7</td>\n",
       "      <td>4</td>\n",
       "      <td>42</td>\n",
       "      <td>3</td>\n",
       "      <td>1</td>\n",
       "      <td>0</td>\n",
       "      <td>25.9</td>\n",
       "    </tr>\n",
       "    <tr>\n",
       "      <th>1</th>\n",
       "      <td>2</td>\n",
       "      <td>5.0208</td>\n",
       "      <td>1.0</td>\n",
       "      <td>3.531</td>\n",
       "      <td>1.500</td>\n",
       "      <td>2.0</td>\n",
       "      <td>7</td>\n",
       "      <td>4</td>\n",
       "      <td>62</td>\n",
       "      <td>1</td>\n",
       "      <td>1</td>\n",
       "      <td>0</td>\n",
       "      <td>29.5</td>\n",
       "    </tr>\n",
       "  </tbody>\n",
       "</table>\n",
       "</div>"
      ],
      "text/plain": [
       "   House ID  Local Price  Bathrooms  Land Area  Living area  # Garages  \\\n",
       "0         1       4.9176        1.0      3.472        0.998        1.0   \n",
       "1         2       5.0208        1.0      3.531        1.500        2.0   \n",
       "\n",
       "   # Rooms  # Bedrooms  Age of home  Construction type  Architecture type  \\\n",
       "0        7           4           42                  3                  1   \n",
       "1        7           4           62                  1                  1   \n",
       "\n",
       "   # Fire places  Price (1000$)  \n",
       "0              0           25.9  \n",
       "1              0           29.5  "
      ]
     },
     "execution_count": 142,
     "metadata": {},
     "output_type": "execute_result"
    }
   ],
   "source": [
    "df.head(2)"
   ]
  },
  {
   "cell_type": "markdown",
   "metadata": {},
   "source": [
    "2. 2. From this, the most important feature is shown to be the third one and from the df main table, since the first is the intercept, it would be the Bathrooms value. That is how I am able to identify the most important variable. And no, even though it is the most important, I cannot use just that feature to predict the price. Reason being that, even though it is the most important, feature selection tells us that there could be other variables that are essential to predicting the price. There is a chance all the other parameters are redundant but it is still not enough. "
   ]
  },
  {
   "cell_type": "markdown",
   "metadata": {},
   "source": [
    "2. 3. The factor with the least influence on the final value is the Architecture type. I know this from the feature selection ouptut parameters using the normalized variables."
   ]
  },
  {
   "cell_type": "code",
   "execution_count": 202,
   "metadata": {},
   "outputs": [
    {
     "data": {
      "text/plain": [
       "Index(['House ID', 'Local Price', 'Bathrooms', 'Land Area', 'Living area',\n",
       "       '# Garages', '# Rooms', '# Bedrooms', 'Age of home',\n",
       "       'Construction type', 'Architecture type', '# Fire places',\n",
       "       'Price (1000$)'],\n",
       "      dtype='object')"
      ]
     },
     "execution_count": 202,
     "metadata": {},
     "output_type": "execute_result"
    }
   ],
   "source": [
    "df.columns"
   ]
  },
  {
   "cell_type": "code",
   "execution_count": 209,
   "metadata": {},
   "outputs": [],
   "source": [
    "x = np.array(df.drop(['House ID', 'Price (1000$)', 'Architecture type'], axis=1))\n",
    "x_trai = x[:22]\n",
    "x_tes = x[22:]\n",
    "x_train = np.insert(x_trai, 0, 1.0, axis=1)\n",
    "x_test = np.insert(x_tes, 0, 1.0, axis=1)"
   ]
  },
  {
   "cell_type": "code",
   "execution_count": 212,
   "metadata": {},
   "outputs": [
    {
     "name": "stdout",
     "output_type": "stream",
     "text": [
      "The beta parameters of the equation are [ 7.56430877  2.99716386  6.29232845  0.38937668  4.57750457  2.41803879\n",
      " -3.04721081  2.67941271 -0.01203721  0.02479547  4.80199709]\n",
      "The Mean Square error of the training data is 5.901530364152987\n",
      "The Mean Square error of the testing data is 83.19291123988803\n"
     ]
    }
   ],
   "source": [
    "# using the same equations and implementations to be able to model out the equation for this\n",
    "# question, we have \n",
    "lr = 0.001\n",
    "m = y.size\n",
    "np.random.seed(10)\n",
    "theta = np.random.rand(11)\n",
    "\n",
    "prediction_list, cost_list, theta_list = gradient_descent(x_train, y_train, m, theta, lr)\n",
    "theta = theta_list[-1]\n",
    "# parameters or the beta values\n",
    "print(f'The beta parameters of the equation are {theta}')\n",
    "\n",
    "# Using the prediction equation to calculate MSE\n",
    "MSE = ((prediction_list[-1] - y_train) ** 2).mean()\n",
    "print(f'The Mean Square error of the training data is {MSE}')\n",
    "\n",
    "# Using the betas now for testing against the test data\n",
    "y_hat = theta[0] + theta[1]*x_test[:,1] + theta[2]*x_test[:,2] + theta[3]*x_test[:,3] + theta[4]*x_test[:,4] + theta[5]*x_test[:,5] + theta[6]*x_test[:,6] + theta[7]*x_test[:,7] + theta[8]*x_test[:,8] + theta[9]*x_test[:,9] + theta[10]*x_test[:,10]\n",
    "\n",
    "# Using the prediction equation to calculate MSE\n",
    "MSE = ((y_hat - y_test) ** 2).mean()\n",
    "print(f'The Mean Square error of the testing data is {MSE}')"
   ]
  },
  {
   "cell_type": "markdown",
   "metadata": {},
   "source": [
    "Taking the least important variable out, the model got slightly better and it is still doing some good work in predictions. The training data MSE went up but the testing data MSE came down."
   ]
  },
  {
   "cell_type": "markdown",
   "metadata": {},
   "source": [
    "# Question 3"
   ]
  },
  {
   "cell_type": "code",
   "execution_count": 220,
   "metadata": {},
   "outputs": [],
   "source": [
    "x_train = np.load(\"data/x_train.npy\")\n",
    "y_train = np.load(\"data/y_train.npy\")\n",
    "x_test = np.load(\"data/x_test.npy\")\n",
    "y_test = np.load(\"data/y_test.npy\")"
   ]
  },
  {
   "cell_type": "code",
   "execution_count": 248,
   "metadata": {},
   "outputs": [],
   "source": [
    "# adding a column of ones to the x variable to account for the intercept\n",
    "#x = np.insert(x_train, 0, 1.0, axis=1)\n",
    "x = x_train\n",
    "y = y_train.reshape(100, 1)"
   ]
  },
  {
   "cell_type": "code",
   "execution_count": 233,
   "metadata": {},
   "outputs": [],
   "source": [
    "# Weight Matrix in code. This is a diagonal matrix.\n",
    "def wm(point, X, tau): \n",
    "  # where  \n",
    "  # tau --> bandwidth\n",
    "  # X --> Training data.\n",
    "  # point --> the x where we want to make the prediction.\n",
    "    \n",
    "  # m is the No of training examples .\n",
    "    m = X.shape[0] \n",
    "    \n",
    "  # Initialising W as an identity matrix.\n",
    "    w = np.mat(np.eye(m)) \n",
    "    \n",
    "  # Calculating weights for all training examples [x(i)'s].\n",
    "    for i in range(m): \n",
    "        xi = X[i] \n",
    "        d = (-2 * tau * tau) \n",
    "        w[i, i] = np.exp(np.dot((xi-point), (xi-point).T)/d) \n",
    "    return w"
   ]
  },
  {
   "cell_type": "code",
   "execution_count": 234,
   "metadata": {},
   "outputs": [],
   "source": [
    "def predict(X, y, point, tau): \n",
    "    \n",
    "   # m = number of training examples. \n",
    "    m = X.shape[0] \n",
    "    \n",
    "   # Appending a colomn of ones in X to add the bias term serving as the intercept\n",
    "    X_ = np.append(X, np.ones(m).reshape(m,1), axis=1) \n",
    "    \n",
    "   # point is the x where we want to make the prediction. \n",
    "    point_ = np.array([point, 1]) \n",
    "    \n",
    "   # Calculating the weight matrix using the wm function we wrote      #  # earlier. \n",
    "    w = wm(point_, X_, tau) \n",
    "    \n",
    "  # Calculating parameter theta using the formula.\n",
    "    theta = np.linalg.pinv(X_.T*(w * X_))*(X_.T*(w * y)) \n",
    "    \n",
    "  # Calculating predictions.  \n",
    "    pred = np.dot(point_, theta) \n",
    "    \n",
    "   # Returning the theta and predictions \n",
    "    return theta, pred"
   ]
  },
  {
   "cell_type": "code",
   "execution_count": 236,
   "metadata": {},
   "outputs": [],
   "source": [
    "def plot_predictions(X, y, tau, nval):\n",
    "   # X --> Training data. \n",
    "   # y --> Output sequence.\n",
    "   # nval --> number of values/points for which we are going to\n",
    "   # predict.\n",
    "   # tau --> the bandwidth.     \n",
    "    # The values for which we are going to predict.\n",
    "   # X_test includes nval evenly spaced values in the domain of X.\n",
    "    X_test = np.linspace(-3, 3, nval) \n",
    "    \n",
    "   # Empty list for storing predictions. \n",
    "    preds = [] \n",
    "    \n",
    "   # Predicting for all nval values and storing them in preds. \n",
    "    for point in X_test: \n",
    "        theta, pred = predict(X, y, point, tau) \n",
    "        preds.append(pred)\n",
    "        \n",
    "   # Reshaping X_test and preds\n",
    "    X_test = np.array(X_test).reshape(nval,1)\n",
    "    preds = np.array(preds).reshape(nval,1)\n",
    "    \n",
    "   # Plotting \n",
    "    plt.plot(X, y, 'b.')\n",
    "    plt.plot(X_test, preds, 'r.') # Predictions in red color.\n",
    "    plt.show()"
   ]
  },
  {
   "cell_type": "code",
   "execution_count": 279,
   "metadata": {},
   "outputs": [
    {
     "data": {
      "image/png": "[encoded data removed]",
      "text/plain": [
       "<Figure size 432x288 with 1 Axes>"
      ]
     },
     "metadata": {
      "needs_background": "light"
     },
     "output_type": "display_data"
    }
   ],
   "source": [
    "# using the data set that was given in th question one for the prediction plotting of the variables\n",
    "plot_predictions(x, y, 0.01, 100)"
   ]
  },
  {
   "cell_type": "code",
   "execution_count": 281,
   "metadata": {},
   "outputs": [
    {
     "data": {
      "image/png": "[encoded data removed]",
      "text/plain": [
       "<Figure size 432x288 with 1 Axes>"
      ]
     },
     "metadata": {
      "needs_background": "light"
     },
     "output_type": "display_data"
    }
   ],
   "source": [
    "# using the data set that was given in th question one for the prediction plotting of the variables\n",
    "plot_predictions(x, y, 2, 100)"
   ]
  },
  {
   "cell_type": "code",
   "execution_count": 282,
   "metadata": {},
   "outputs": [
    {
     "data": {
      "image/png": "[encoded data removed]",
      "text/plain": [
       "<Figure size 432x288 with 1 Axes>"
      ]
     },
     "metadata": {
      "needs_background": "light"
     },
     "output_type": "display_data"
    }
   ],
   "source": [
    "# using the data set that was given in th question one for the prediction plotting of the variables\n",
    "plot_predictions(x, y, 0.7, 100)"
   ]
  },
  {
   "cell_type": "markdown",
   "metadata": {},
   "source": [
    "The image here is extremely similar to the equation shown in the 3rd degree polynomial linear regression with Radial Basis Functions. I also tried changing the value for the tau which resulting in the overfitting of the model when the value given is smaller resulting in a smaller bias but larger variance for out of sample data and underfitting when the tau value is higher resulting in larger bias and oversimplification of the model."
   ]
  },
  {
   "cell_type": "markdown",
   "metadata": {},
   "source": [
    "3. 1. In the instance of the locally weighted approach, I did not need any basis functions to implement this model. The model itself selects the parameters to use based on the given weighted paramters and give the required inportance to which features should be employed in the model.\n",
    "3. 2. The difference between the two implementations is that in the first one, we had to manually set the parameters or set a basis function for the model to be able to use that as a means of fitting the training data. In the locally weighted approach, no basis functions or feature selction was needed, the model itself did that selection. This is useful when the data that has been given are relatively small or if personall, the modeller would not want to go through selecting the parameters on his/her own which could sometimes introduce biases. As an example, I used 3rd degree and 5th degree basis functions for the first one. If there was an error, it would be added without properly being accounted for."
   ]
  }
 ],
 "metadata": {
  "kernelspec": {
   "display_name": "Python 3.10.7 64-bit",
   "language": "python",
   "name": "python3"
  },
  "language_info": {
   "codemirror_mode": {
    "name": "ipython",
    "version": 3
   },
   "file_extension": ".py",
   "mimetype": "text/x-python",
   "name": "python",
   "nbconvert_exporter": "python",
   "pygments_lexer": "ipython3",
   "version": "3.10.7"
  },
  "orig_nbformat": 4,
  "vscode": {
   "interpreter": {
    "hash": "8c536098342e249770475e76571c08326ac21f990e5ca158aeaf10eded2866f0"
   }
  }
 },
 "nbformat": 4,
 "nbformat_minor": 2
}
